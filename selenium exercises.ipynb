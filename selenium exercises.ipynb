{
 "cells": [
  {
   "cell_type": "code",
   "execution_count": 1,
   "id": "cbdc4791-c246-4a52-949a-c8eed2f31dfc",
   "metadata": {},
   "outputs": [],
   "source": [
    "import numpy as np\n",
    "import pandas as pd\n",
    "\n",
    "from selenium import webdriver\n",
    "from selenium.webdriver.chrome.service import Service as Service\n",
    "from selenium.webdriver.common.keys import Keys\n",
    "from selenium.webdriver.common.by import By\n",
    "from selenium.webdriver.common.action_chains import ActionChains\n",
    "from selenium.webdriver.support.ui import Select, WebDriverWait\n",
    "from selenium.webdriver.support import expected_conditions as EC\n",
    "\n",
    "from webdriver_manager.chrome import ChromeDriverManager\n",
    "\n",
    "import time as t\n",
    "import os"
   ]
  },
  {
   "cell_type": "markdown",
   "id": "8e8109b7-95ce-409f-b9f0-abdb7d9b6ec9",
   "metadata": {},
   "source": [
    "# Exercises:\n",
    "\n",
    "    Make a function that will download all of the sql files listed in your database-exercises repo.\n",
    "\n",
    "    Pick one more repo to download all ipynb's (only) from and turn that into a second function.\n",
    "\n",
    "BONUS: turn this functions into a py script you can run directly in terminal."
   ]
  },
  {
   "cell_type": "code",
   "execution_count": 35,
   "id": "84fa3a09-8544-40c9-b36c-1e608a99fd02",
   "metadata": {},
   "outputs": [],
   "source": [
    "# get local env variables \n",
    "user = os.getenv('githubUSER')\n",
    "pswd = os.getenv('githubPSWD')\n",
    "# set base url for working with github\n",
    "base_url = 'https://github.com/'\n",
    "page_url = '/database-exercises/'"
   ]
  },
  {
   "cell_type": "code",
   "execution_count": 3,
   "id": "ad0d4807-66b7-4331-8ad3-d285d9062d19",
   "metadata": {},
   "outputs": [],
   "source": [
    "# call this if not previously done\n",
    "# ChromeDriverManager().install()"
   ]
  },
  {
   "cell_type": "code",
   "execution_count": 4,
   "id": "e62387b6-99f6-479f-ac37-fc7c0a3c7ab5",
   "metadata": {},
   "outputs": [],
   "source": [
    "# create a webdriver object (which opens a chrome web browser window)\n",
    "driver = webdriver.Chrome(service=Service())"
   ]
  },
  {
   "cell_type": "code",
   "execution_count": 5,
   "id": "077749ed-340f-4a98-849c-120e55f224af",
   "metadata": {},
   "outputs": [],
   "source": [
    "# set window size (by pixels)\n",
    "driver.set_window_size(1400, 1000)"
   ]
  },
  {
   "cell_type": "code",
   "execution_count": 6,
   "id": "637d7b13-6308-42ee-bd72-880ad9cf726f",
   "metadata": {},
   "outputs": [],
   "source": [
    "# navigate to github and log in\n",
    "driver.get(base_url+\"login\")"
   ]
  },
  {
   "cell_type": "code",
   "execution_count": 7,
   "id": "18edba7c-7866-4405-842d-545a19bfa9f6",
   "metadata": {},
   "outputs": [],
   "source": [
    "# click to test this\n",
    "driver.find_element(By.NAME, 'login').click()"
   ]
  },
  {
   "cell_type": "code",
   "execution_count": 7,
   "id": "be8661d8-083f-4f6c-87f0-86e62f7c442a",
   "metadata": {},
   "outputs": [],
   "source": [
    "# That worked, now enter user and password and click login\n",
    "driver.find_element(By.NAME, 'login').send_keys(user)\n",
    "driver.find_element(By.NAME, 'password').send_keys(pswd)\n",
    "driver.find_element(By.NAME, 'commit').click()\n",
    "WebDriverWait(driver, 30).until(EC.presence_of_all_elements_located((By.XPATH, '//a[@class=\"js-navigation-open Link--primary\"]')))"
   ]
  },
  {
   "cell_type": "code",
   "execution_count": 8,
   "id": "69863746-8e22-4760-90fc-ccbe8014dabd",
   "metadata": {},
   "outputs": [],
   "source": [
    "# navigate to database-exercises\n",
    "driver.get(base_url+user+page_url)"
   ]
  },
  {
   "cell_type": "code",
   "execution_count": 9,
   "id": "167cd0bd-f4ef-41bc-9ea8-a9ba934ef1a7",
   "metadata": {},
   "outputs": [
    {
     "data": {
      "text/plain": [
       "'20230411_sqlwarmup.sql'"
      ]
     },
     "execution_count": 9,
     "metadata": {},
     "output_type": "execute_result"
    }
   ],
   "source": [
    "# Now it's going to get weird. Use XPATH to figure out what to click on \n",
    "# to download all the .sql files and not any other files (like the README.md)\n",
    "driver.find_elements(By.XPATH, '//a[@class=\"js-navigation-open Link--primary\"]')[0].text"
   ]
  },
  {
   "cell_type": "code",
   "execution_count": 10,
   "id": "e72f19f1-6254-446b-bb6f-f3f9b7974613",
   "metadata": {},
   "outputs": [
    {
     "data": {
      "text/plain": [
       "True"
      ]
     },
     "execution_count": 10,
     "metadata": {},
     "output_type": "execute_result"
    }
   ],
   "source": [
    "filename= driver.find_elements(By.XPATH, '//a[@class=\"js-navigation-open Link--primary\"]')[0].text\n",
    "filename[-4:] == '.sql'"
   ]
  },
  {
   "cell_type": "code",
   "execution_count": 11,
   "id": "3ccb256c-f3e2-4006-9249-465496d7abdf",
   "metadata": {},
   "outputs": [],
   "source": [
    "# select first .sql file (which takes us to another page)\n",
    "driver.find_elements(By.XPATH, '//a[@class=\"js-navigation-open Link--primary\"]')[0].click()"
   ]
  },
  {
   "cell_type": "code",
   "execution_count": 14,
   "id": "10ec6f57-2b85-4a2a-9aa5-1e05b04873e7",
   "metadata": {},
   "outputs": [
    {
     "data": {
      "text/plain": [
       "[<selenium.webdriver.remote.webelement.WebElement (session=\"4e503858411791ffa28888240713b61f\", element=\"470A2A572FAA27D1C5644D095632092D_element_2285\")>]"
      ]
     },
     "execution_count": 14,
     "metadata": {},
     "output_type": "execute_result"
    }
   ],
   "source": [
    "# find download button\n",
    "driver.find_elements(By.XPATH, '//button[@data-component=\"IconButton\"][@aria-label=\"Download raw content\"]')"
   ]
  },
  {
   "cell_type": "code",
   "execution_count": 23,
   "id": "a8fffef6-118b-4447-9188-70b6a3c662b8",
   "metadata": {},
   "outputs": [],
   "source": [
    "# assign this long thing to a variable dlbutton (download button)\n",
    "dlbutton = driver.find_elements(By.XPATH, '//button[@data-component=\"IconButton\"][@aria-label=\"Download raw content\"]')[0]"
   ]
  },
  {
   "cell_type": "code",
   "execution_count": 24,
   "id": "71433d5c-b3c2-49e1-b66a-1711a283eb7a",
   "metadata": {},
   "outputs": [],
   "source": [
    "# check if that's the right button by \"hovering\" over it\n",
    "ActionChains(driver).move_to_element(dlbutton).perform()"
   ]
  },
  {
   "cell_type": "code",
   "execution_count": 25,
   "id": "e25b9452-38b0-4604-aecb-ee85cb9d2408",
   "metadata": {},
   "outputs": [],
   "source": [
    "# That worked. Now click it to download the file\n",
    "dlbutton.click()"
   ]
  },
  {
   "cell_type": "code",
   "execution_count": 27,
   "id": "0abf8faf-ea06-4d58-bff2-01000353dadb",
   "metadata": {},
   "outputs": [],
   "source": [
    "# That worked. Now I need to go back to the previous page\n",
    "driver.back()"
   ]
  },
  {
   "cell_type": "code",
   "execution_count": 32,
   "id": "b6f0fb44-c14b-43f3-ba30-9af306dccc45",
   "metadata": {},
   "outputs": [
    {
     "data": {
      "text/plain": [
       "23"
      ]
     },
     "execution_count": 32,
     "metadata": {},
     "output_type": "execute_result"
    }
   ],
   "source": [
    "# Now I just need a for loop to repeat\n",
    "# find all the file links again\n",
    "element_list = driver.find_elements(By.XPATH, '//a[@class=\"js-navigation-open Link--primary\"]')\n",
    "len(element_list)"
   ]
  },
  {
   "cell_type": "code",
   "execution_count": 33,
   "id": "b3dafe78-1d2c-4a7a-a735-8c3315333c0d",
   "metadata": {},
   "outputs": [
    {
     "name": "stdout",
     "output_type": "stream",
     "text": [
      "20230411_sqlwarmup.sql\n",
      "20230412_practice.sql\n",
      "README.md\n",
      "SQL Warmup 20230327.sql\n",
      "SQL Warmup20230328.sql\n",
      "basic_statement_exercises.sql\n",
      "bonus_aggregate_functions_exercises.sql\n",
      "case_exercises.sql\n",
      "db_tables_exercises.sql\n",
      "functions_exercises.sql\n",
      "group_by_exercises.sql\n",
      "index_create_alter_exercise.sql\n",
      "joint_exercises.sql\n",
      "limit_exercises.sql\n",
      "more_exercises.sql\n",
      "mysql_introduction.sql\n",
      "order_by_exercises.sql\n",
      "sql_warmup_20230320.sql\n",
      "subqueries_exercises.sql\n",
      "temporary_tables.sql\n",
      "warmup20230310.sql\n",
      "warmup_exercise20230315.sql\n",
      "where_advanced_exercises.sql\n"
     ]
    }
   ],
   "source": [
    "# from 0 - length of element_list (num of file link 'object's) iterate...\n",
    "for i in range(0, len(element_list)):\n",
    "    # had to use WebDriverWait everytime we start at a new page and had to re-ask for the filename elements and assign them to a variable\n",
    "    new_element_list = WebDriverWait(driver, 30).until(EC.presence_of_all_elements_located((By.XPATH, '//a[@class=\"js-navigation-open Link--primary\"]')))\n",
    "    # if the filename ends in .sql we want to download it\n",
    "    if new_element_list[i].text[-4:] == '.sql':\n",
    "        print(f'Downloading {new_element_list[i].text}')\n",
    "        # click through to get to the page with the download button\n",
    "        new_element_list[i].click()\n",
    "        # assign the download button element to a variable (need a wait in here to account for page loading time\n",
    "        dlbutton = WebDriverWait(driver, 30).until(\n",
    "            EC.presence_of_element_located((By.XPATH, '//button[@data-component=\"IconButton\"][@aria-label=\"Download raw content\"]')))\n",
    "        # move 'mouse' to the download button (not sure if this is required)\n",
    "        ActionChains(driver).move_to_element(dlbutton).perform()\n",
    "        # click the dlbutton to download\n",
    "        dlbutton.click()\n",
    "        # go back a page and start over\n",
    "        driver.back()"
   ]
  },
  {
   "cell_type": "code",
   "execution_count": 34,
   "id": "929a9d6e-1846-4585-80a8-7275e3f28ae9",
   "metadata": {},
   "outputs": [],
   "source": [
    "driver.quit()"
   ]
  },
  {
   "cell_type": "markdown",
   "id": "085d868b-6848-4f69-a959-f50fade23c54",
   "metadata": {},
   "source": [
    "# Exercise cont.\n",
    "    Pick one more repo to download all ipynb's (only) from and turn that into a second function."
   ]
  },
  {
   "cell_type": "code",
   "execution_count": null,
   "id": "a08ad86b-75c6-46c2-9a31-01ac630d8e2e",
   "metadata": {},
   "outputs": [],
   "source": []
  },
  {
   "cell_type": "code",
   "execution_count": 36,
   "id": "1fc26026-6e2f-4f65-8e95-87019b87657d",
   "metadata": {},
   "outputs": [],
   "source": [
    "# get local env variables \n",
    "user = os.getenv('githubUSER')\n",
    "pswd = os.getenv('githubPSWD')\n",
    "# set base url and pag_urlfor working with github\n",
    "base_url = 'https://github.com/'\n",
    "page_url = '/ck-nlp-most-starred-repos/nlp_most_starred_repos/'"
   ]
  },
  {
   "cell_type": "code",
   "execution_count": 37,
   "id": "306fc816-6036-4368-993c-dbfc3d35d3fa",
   "metadata": {},
   "outputs": [],
   "source": [
    "# call this if not previously done\n",
    "# ChromeDriverManager().install()"
   ]
  },
  {
   "cell_type": "code",
   "execution_count": 38,
   "id": "69e4f975-a41b-4ce5-a1cd-ede4d7518638",
   "metadata": {},
   "outputs": [],
   "source": [
    "# create a webdriver object (which opens a chrome web browser window)\n",
    "driver = webdriver.Chrome(service=Service())"
   ]
  },
  {
   "cell_type": "code",
   "execution_count": 39,
   "id": "0a1c74be-feea-4fe6-8f83-2b2971c26aa4",
   "metadata": {},
   "outputs": [],
   "source": [
    "# set window size (by pixels)\n",
    "driver.set_window_size(1400, 1000)"
   ]
  },
  {
   "cell_type": "code",
   "execution_count": 40,
   "id": "214c2e58-3b0e-49b6-ab0b-89d35099cdd9",
   "metadata": {},
   "outputs": [],
   "source": [
    "# navigate to github and log in\n",
    "driver.get(base_url+\"login\")"
   ]
  },
  {
   "cell_type": "code",
   "execution_count": 41,
   "id": "1d71d4dd-1f1d-4d08-b1cc-34f6c80f53a9",
   "metadata": {},
   "outputs": [],
   "source": [
    "# That worked, now enter user and password and click login\n",
    "driver.find_element(By.NAME, 'login').send_keys(user)\n",
    "driver.find_element(By.NAME, 'password').send_keys(pswd)\n",
    "driver.find_element(By.NAME, 'commit').click()\n",
    "t.sleep(2)"
   ]
  },
  {
   "cell_type": "code",
   "execution_count": 42,
   "id": "ac753d0c-3cec-4c66-b59b-9861d45ec10b",
   "metadata": {},
   "outputs": [],
   "source": [
    "# navigate to database-exercises\n",
    "driver.get(base_url+page_url)\n"
   ]
  },
  {
   "cell_type": "code",
   "execution_count": null,
   "id": "6effc5af-08e6-410f-a945-990991e158ed",
   "metadata": {},
   "outputs": [],
   "source": [
    "# this page has two folders in it with .ipynb files, so we will have to loop through the folders as well as the main page\n",
    "driver.find_elements(By.Name, "
   ]
  },
  {
   "cell_type": "code",
   "execution_count": 44,
   "id": "e0211bcc-67d0-4525-bb70-132a0cf5d03c",
   "metadata": {},
   "outputs": [],
   "source": [
    "driver.quit()"
   ]
  },
  {
   "cell_type": "code",
   "execution_count": null,
   "id": "90e83f2d-ac0a-4b29-98a8-7f0cbc0a8049",
   "metadata": {},
   "outputs": [],
   "source": []
  }
 ],
 "metadata": {
  "kernelspec": {
   "display_name": "Python 3 (ipykernel)",
   "language": "python",
   "name": "python3"
  },
  "language_info": {
   "codemirror_mode": {
    "name": "ipython",
    "version": 3
   },
   "file_extension": ".py",
   "mimetype": "text/x-python",
   "name": "python",
   "nbconvert_exporter": "python",
   "pygments_lexer": "ipython3",
   "version": "3.9.13"
  }
 },
 "nbformat": 4,
 "nbformat_minor": 5
}
