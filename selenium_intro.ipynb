{
 "cells": [
  {
   "cell_type": "code",
   "execution_count": 1,
   "id": "8b2f241a-1e26-4fc8-bf18-2fe361ed8f3b",
   "metadata": {},
   "outputs": [],
   "source": [
    "import numpy as np\n",
    "import pandas as pd\n",
    "\n",
    "from selenium import webdriver\n",
    "from selenium.webdriver.chrome.service import Service as C_Service\n",
    "from selenium.webdriver.common.keys import Keys\n",
    "from selenium.webdriver.common.by import By\n",
    "from selenium.webdriver.common.action_chains import ActionChains\n",
    "from selenium.webdriver.support.ui import Select, WebDriverWait\n",
    "from selenium.webdriver.support import expected_conditions as EC\n",
    "\n",
    "from webdriver_manager.chrome import ChromeDriverManager\n",
    "\n",
    "import time as t\n",
    "import os\n",
    "\n"
   ]
  },
  {
   "cell_type": "code",
   "execution_count": 2,
   "id": "eef94a91-362d-4415-b35f-bf2636f628e6",
   "metadata": {},
   "outputs": [],
   "source": [
    "# from selenium.webdriver.firefox.service import Service as F_Service\n",
    "# from webdriver_manager.firefox import GeckoDriverManager"
   ]
  },
  {
   "cell_type": "markdown",
   "id": "1ddea387-dcba-4679-afd4-5b7777611737",
   "metadata": {},
   "source": [
    "# Variables"
   ]
  },
  {
   "cell_type": "code",
   "execution_count": 3,
   "id": "431ec674-2e9e-4cf0-ad0b-a8947ef5f145",
   "metadata": {},
   "outputs": [],
   "source": [
    "user = os.getenv('githubUSER')\n",
    "pswd = os.getenv('githubPSWD')\n",
    "base_url = 'https://github.com/'"
   ]
  },
  {
   "cell_type": "code",
   "execution_count": 14,
   "id": "5398b67a-5a95-42a1-b938-603d2383d466",
   "metadata": {},
   "outputs": [
    {
     "data": {
      "text/plain": [
       "'/Users/slick/.wdm/drivers/chromedriver/mac_arm64/114.0.5735.90/chromedriver'"
      ]
     },
     "execution_count": 14,
     "metadata": {},
     "output_type": "execute_result"
    }
   ],
   "source": [
    "# only need to do once; don't include in final code/script\n",
    "ChromeDriverManager().install()"
   ]
  },
  {
   "cell_type": "code",
   "execution_count": 15,
   "id": "5d25b823-3cd6-4d08-a92b-cd6e4875b6df",
   "metadata": {},
   "outputs": [
    {
     "data": {
      "text/plain": [
       "'/Users/slick/.wdm/drivers/geckodriver/macos-aarch64/v0.33.0/geckodriver'"
      ]
     },
     "execution_count": 15,
     "metadata": {},
     "output_type": "execute_result"
    }
   ],
   "source": [
    "# only need to do once; don't include in final code/script\n",
    "GeckoDriverManager().install()"
   ]
  },
  {
   "cell_type": "code",
   "execution_count": 5,
   "id": "acd97c53-6878-432c-b082-6fd1235530e7",
   "metadata": {},
   "outputs": [],
   "source": [
    "# create webdriver object (which opens up a FireFox browser)\n",
    "driver = webdriver.Chrome(service = C_Service())"
   ]
  },
  {
   "cell_type": "code",
   "execution_count": 6,
   "id": "a27af11a-2679-464e-a8fb-71826aee5f65",
   "metadata": {},
   "outputs": [],
   "source": [
    "# goes to the log in page\n",
    "driver.get(base_url+'login')"
   ]
  },
  {
   "cell_type": "code",
   "execution_count": 7,
   "id": "e594815d-f81b-4f54-a061-ecf3f991a0bd",
   "metadata": {},
   "outputs": [],
   "source": [
    "# maximize the browser window\n",
    "driver.maximize_window()"
   ]
  },
  {
   "cell_type": "code",
   "execution_count": 8,
   "id": "8e0892f9-5902-4490-a20d-a7157b29470c",
   "metadata": {},
   "outputs": [],
   "source": [
    "# set a particular size with pixels\n",
    "driver.set_window_size(1400, 1000)"
   ]
  },
  {
   "cell_type": "markdown",
   "id": "42a9a8cf-417a-48ca-9f1a-19d1a947bb41",
   "metadata": {},
   "source": [
    "# Finding Web elements"
   ]
  },
  {
   "cell_type": "code",
   "execution_count": 9,
   "id": "6fc56f64-f8cf-4466-b82e-1093b1dd5f7b",
   "metadata": {},
   "outputs": [],
   "source": [
    "# open up \"inspect\" on that page\n",
    "# get to finding!\n",
    "\n",
    "driver.find_element(By.NAME, 'login').click()"
   ]
  },
  {
   "cell_type": "code",
   "execution_count": 10,
   "id": "6da6daa5-503a-47d3-949b-107a5be2c922",
   "metadata": {},
   "outputs": [],
   "source": [
    "# do some actions - send in username to user block on page\n",
    "driver.find_element(By.NAME, 'login').send_keys(user)"
   ]
  },
  {
   "cell_type": "code",
   "execution_count": 11,
   "id": "02f92dbc-0b94-47a4-ae50-e80fea48910e",
   "metadata": {},
   "outputs": [],
   "source": [
    "# enter passowrd\n",
    "driver.find_element(By.NAME, 'password').send_keys(pswd)"
   ]
  },
  {
   "cell_type": "code",
   "execution_count": 12,
   "id": "6e352e4e-f3f4-4ce1-8c05-b5cfaca6b2d9",
   "metadata": {},
   "outputs": [],
   "source": [
    "# locate and click the sign in button\n",
    "driver.find_element(By.NAME, 'commit').click()"
   ]
  },
  {
   "cell_type": "code",
   "execution_count": 13,
   "id": "a813bd82-ab1a-4a25-aa98-2948ba8c7c9c",
   "metadata": {},
   "outputs": [],
   "source": [
    "# navigate to database exercises\n",
    "driver.get(base_url+user+\"/database-exercises\")"
   ]
  },
  {
   "cell_type": "markdown",
   "id": "61f40d6c-554b-4e28-a9c4-da8e374c2603",
   "metadata": {},
   "source": [
    "# XPath\n",
    "\n",
    "XPath\n",
    "\n",
    "XPath is commonly used in web scraping and automated testing, especially when working with HTML/XML-based web pages.\n",
    "\n",
    "It allows you to locate and extract specific elements or data from the page by targeting their XPath expressions.\n",
    "\n",
    "Let's use XPath Playground to help us locate our repo links!\n",
    "https://scrapinghub.github.io/xpath-playground/\n"
   ]
  },
  {
   "cell_type": "code",
   "execution_count": 14,
   "id": "953645a0-3e40-421b-93e2-89fdda18c3ae",
   "metadata": {},
   "outputs": [
    {
     "data": {
      "text/plain": [
       "[<selenium.webdriver.remote.webelement.WebElement (session=\"eb215cb46666a4e24e3e0219577613da\", element=\"1E99275FA93E118D9AE0F12013172096_element_1836\")>,\n",
       " <selenium.webdriver.remote.webelement.WebElement (session=\"eb215cb46666a4e24e3e0219577613da\", element=\"1E99275FA93E118D9AE0F12013172096_element_1847\")>,\n",
       " <selenium.webdriver.remote.webelement.WebElement (session=\"eb215cb46666a4e24e3e0219577613da\", element=\"1E99275FA93E118D9AE0F12013172096_element_1858\")>,\n",
       " <selenium.webdriver.remote.webelement.WebElement (session=\"eb215cb46666a4e24e3e0219577613da\", element=\"1E99275FA93E118D9AE0F12013172096_element_1869\")>,\n",
       " <selenium.webdriver.remote.webelement.WebElement (session=\"eb215cb46666a4e24e3e0219577613da\", element=\"1E99275FA93E118D9AE0F12013172096_element_1880\")>,\n",
       " <selenium.webdriver.remote.webelement.WebElement (session=\"eb215cb46666a4e24e3e0219577613da\", element=\"1E99275FA93E118D9AE0F12013172096_element_1891\")>,\n",
       " <selenium.webdriver.remote.webelement.WebElement (session=\"eb215cb46666a4e24e3e0219577613da\", element=\"1E99275FA93E118D9AE0F12013172096_element_1902\")>,\n",
       " <selenium.webdriver.remote.webelement.WebElement (session=\"eb215cb46666a4e24e3e0219577613da\", element=\"1E99275FA93E118D9AE0F12013172096_element_1913\")>,\n",
       " <selenium.webdriver.remote.webelement.WebElement (session=\"eb215cb46666a4e24e3e0219577613da\", element=\"1E99275FA93E118D9AE0F12013172096_element_1924\")>,\n",
       " <selenium.webdriver.remote.webelement.WebElement (session=\"eb215cb46666a4e24e3e0219577613da\", element=\"1E99275FA93E118D9AE0F12013172096_element_1935\")>,\n",
       " <selenium.webdriver.remote.webelement.WebElement (session=\"eb215cb46666a4e24e3e0219577613da\", element=\"1E99275FA93E118D9AE0F12013172096_element_1946\")>,\n",
       " <selenium.webdriver.remote.webelement.WebElement (session=\"eb215cb46666a4e24e3e0219577613da\", element=\"1E99275FA93E118D9AE0F12013172096_element_1957\")>,\n",
       " <selenium.webdriver.remote.webelement.WebElement (session=\"eb215cb46666a4e24e3e0219577613da\", element=\"1E99275FA93E118D9AE0F12013172096_element_1968\")>,\n",
       " <selenium.webdriver.remote.webelement.WebElement (session=\"eb215cb46666a4e24e3e0219577613da\", element=\"1E99275FA93E118D9AE0F12013172096_element_1979\")>,\n",
       " <selenium.webdriver.remote.webelement.WebElement (session=\"eb215cb46666a4e24e3e0219577613da\", element=\"1E99275FA93E118D9AE0F12013172096_element_1990\")>,\n",
       " <selenium.webdriver.remote.webelement.WebElement (session=\"eb215cb46666a4e24e3e0219577613da\", element=\"1E99275FA93E118D9AE0F12013172096_element_2001\")>,\n",
       " <selenium.webdriver.remote.webelement.WebElement (session=\"eb215cb46666a4e24e3e0219577613da\", element=\"1E99275FA93E118D9AE0F12013172096_element_2012\")>,\n",
       " <selenium.webdriver.remote.webelement.WebElement (session=\"eb215cb46666a4e24e3e0219577613da\", element=\"1E99275FA93E118D9AE0F12013172096_element_2023\")>,\n",
       " <selenium.webdriver.remote.webelement.WebElement (session=\"eb215cb46666a4e24e3e0219577613da\", element=\"1E99275FA93E118D9AE0F12013172096_element_2034\")>,\n",
       " <selenium.webdriver.remote.webelement.WebElement (session=\"eb215cb46666a4e24e3e0219577613da\", element=\"1E99275FA93E118D9AE0F12013172096_element_2045\")>,\n",
       " <selenium.webdriver.remote.webelement.WebElement (session=\"eb215cb46666a4e24e3e0219577613da\", element=\"1E99275FA93E118D9AE0F12013172096_element_2056\")>,\n",
       " <selenium.webdriver.remote.webelement.WebElement (session=\"eb215cb46666a4e24e3e0219577613da\", element=\"1E99275FA93E118D9AE0F12013172096_element_2067\")>,\n",
       " <selenium.webdriver.remote.webelement.WebElement (session=\"eb215cb46666a4e24e3e0219577613da\", element=\"1E99275FA93E118D9AE0F12013172096_element_2078\")>]"
      ]
     },
     "execution_count": 14,
     "metadata": {},
     "output_type": "execute_result"
    }
   ],
   "source": [
    "# select first sql file\n",
    "driver.find_elements(By.XPATH, '//a[@class=\"js-navigation-open Link--primary\"]')"
   ]
  },
  {
   "cell_type": "code",
   "execution_count": 15,
   "id": "05ea187a-f189-4dcb-9783-5d82fd93c42e",
   "metadata": {},
   "outputs": [
    {
     "data": {
      "text/plain": [
       "<selenium.webdriver.remote.webelement.WebElement (session=\"eb215cb46666a4e24e3e0219577613da\", element=\"1E99275FA93E118D9AE0F12013172096_element_1836\")>"
      ]
     },
     "execution_count": 15,
     "metadata": {},
     "output_type": "execute_result"
    }
   ],
   "source": [
    "# those are all the elements that are my .sql files\n",
    "# Note, cao 7 Jul 2023, element number 2 is the README\n",
    "driver.find_elements(By.XPATH, '//a[@class=\"js-navigation-open Link--primary\"]')[0]"
   ]
  },
  {
   "cell_type": "code",
   "execution_count": 16,
   "id": "13f92b3d-34b6-4a05-8356-0713e75eaf4e",
   "metadata": {},
   "outputs": [
    {
     "data": {
      "text/plain": [
       "'20230411_sqlwarmup.sql'"
      ]
     },
     "execution_count": 16,
     "metadata": {},
     "output_type": "execute_result"
    }
   ],
   "source": [
    "# first element is a sql file\n",
    "driver.find_elements(By.XPATH, '//a[@class=\"js-navigation-open Link--primary\"]')[0].text"
   ]
  },
  {
   "cell_type": "code",
   "execution_count": 19,
   "id": "ca275578-808f-4ecd-9184-2b869a269c9a",
   "metadata": {},
   "outputs": [],
   "source": [
    "driver.find_elements(By.XPATH, '//a[@class=\"js-navigation-open Link--primary\"]')[0].click()"
   ]
  },
  {
   "cell_type": "code",
   "execution_count": 21,
   "id": "ed40ced4-bbe2-4d32-b689-aa424ca666f2",
   "metadata": {},
   "outputs": [],
   "source": [
    "# that clicked on the first .sql file in the webbrowser\n",
    "# NOTE: in order for it to click, you have to not have the inspector called up\n",
    "# now if I want to download that file..."
   ]
  },
  {
   "cell_type": "code",
   "execution_count": 42,
   "id": "69a381a2-bc40-4181-b1bb-0d958ebd8e71",
   "metadata": {},
   "outputs": [
    {
     "data": {
      "text/plain": [
       "<selenium.webdriver.remote.webelement.WebElement (session=\"eb215cb46666a4e24e3e0219577613da\", element=\"5CC57061AF9B6E65D500254AC4CB036E_element_2626\")>"
      ]
     },
     "execution_count": 42,
     "metadata": {},
     "output_type": "execute_result"
    }
   ],
   "source": [
    "driver.find_elements(By.XPATH, '//button[@data-component=\"IconButton\"]')[5]"
   ]
  },
  {
   "cell_type": "code",
   "execution_count": 48,
   "id": "3fe8b80b-71fa-4fb3-9603-c2be11aaa195",
   "metadata": {},
   "outputs": [],
   "source": [
    "# element [5] is the download button\n",
    "dlbutton = driver.find_elements(By.XPATH, '//button[@data-component=\"IconButton\"]')[6]\n",
    "# use ActionChains to ... move the mouse?\n",
    "ActionChains(driver).move_to_element(dlbutton).perform()"
   ]
  },
  {
   "cell_type": "code",
   "execution_count": 46,
   "id": "c58f6c58-73a9-4f5e-82cd-4d5d7a24e96a",
   "metadata": {},
   "outputs": [],
   "source": [
    "# check if this is the correct button by hovering over it\n",
    "# there's another way using span=roletool or something"
   ]
  },
  {
   "cell_type": "code",
   "execution_count": 49,
   "id": "eb113a1b-9b6d-43a4-8b3b-ee0519889c8b",
   "metadata": {},
   "outputs": [],
   "source": [
    "# downlaod the file\n",
    "driver.find_elements(By.XPATH, '//button[@data-component=\"IconButton\"]')[6].click()"
   ]
  },
  {
   "cell_type": "markdown",
   "id": "a532444b-e9a7-4f99-86be-736c5dc5fcef",
   "metadata": {},
   "source": [
    "# Waits\n",
    "Waits are useful for when you need to allow the webpage time to load. I'm going to use an ipynb that I know usually takes a long time to load for demo purposes.\n",
    "\n",
    "    Implicit: sets a maximum amount of time for the WebDriver to wait for an element to appear.\n",
    "\n",
    "    Explicit: allows you to specify a condition and maximum waiting time for a specific element to become available.\n"
   ]
  },
  {
   "cell_type": "code",
   "execution_count": 50,
   "id": "8ed993e7-0e48-461a-a8e9-db991a915da8",
   "metadata": {},
   "outputs": [],
   "source": [
    "driver.get(\"https://github.com/o0amandagomez0o/individual_project/blob/master/final_aac.ipynb\")"
   ]
  },
  {
   "cell_type": "code",
   "execution_count": 52,
   "id": "edc9d5cc-511d-41e5-9a17-42611d65c6c9",
   "metadata": {},
   "outputs": [],
   "source": [
    "# Explicit wait (with max timer 50) and Expected Conditions \n",
    "# inside of ...element_located it is expecting a tuple which is why there's another ()\n",
    "# context click = right click\n",
    "# since there are two htmls, how did it know to go to the second one? because it knows that the first one\n",
    "# is the whole thing and that would be silly\n",
    "ipynb = WebDriverWait(driver, 50).until(EC.presence_of_element_located((By.XPATH, '//html')))\n",
    "ActionChains(driver).context_click(ipynb).perform()"
   ]
  },
  {
   "cell_type": "code",
   "execution_count": null,
   "id": "b6a86c18-179b-4986-bfa9-e7d0f4d28ec0",
   "metadata": {},
   "outputs": [],
   "source": [
    "# the right click appeared in the ipynb, so it's kind of a QC"
   ]
  },
  {
   "cell_type": "code",
   "execution_count": 56,
   "id": "bdef8796-7966-4748-a8f1-13da22d61dcd",
   "metadata": {},
   "outputs": [],
   "source": [
    "# Implicit wait - if web page loads in less than wait time, it just goes and runs the action"
   ]
  },
  {
   "cell_type": "code",
   "execution_count": 53,
   "id": "3d9e3224-6036-4b24-b495-2c578d2f3d7f",
   "metadata": {},
   "outputs": [],
   "source": [
    "# reload page\n",
    "driver.get(\"https://github.com/o0amandagomez0o/individual_project/blob/master/final_aac.ipynb\")"
   ]
  },
  {
   "cell_type": "code",
   "execution_count": 54,
   "id": "8c12ab9d-e592-4cfe-aaad-5ac65be5c62c",
   "metadata": {},
   "outputs": [],
   "source": [
    "driver.implicitly_wait(15)\n",
    "ActionChains(driver).context_click(driver.find_element(By.XPATH, '//html')).perform()"
   ]
  },
  {
   "cell_type": "code",
   "execution_count": 57,
   "id": "e3d4a3a4-8eea-4225-886b-376f32777e74",
   "metadata": {},
   "outputs": [],
   "source": [
    "# waits differ from sleep timers; a sleep timer waits for the wait time regardless of \n",
    "# if the web page has loaded\n",
    "t.sleep(5)\n",
    "ActionChains(driver).context_click(driver.find_element(By.XPATH, '//html')).perform()"
   ]
  },
  {
   "cell_type": "code",
   "execution_count": null,
   "id": "c12295cb-1084-48c7-b6c6-34cf1b1d1f64",
   "metadata": {},
   "outputs": [],
   "source": [
    "# close() closes the current window"
   ]
  },
  {
   "cell_type": "code",
   "execution_count": 58,
   "id": "71fdfe5d-4878-47d9-aa57-94e021687641",
   "metadata": {},
   "outputs": [],
   "source": [
    "driver.switch_to.new_window('window')"
   ]
  },
  {
   "cell_type": "code",
   "execution_count": 59,
   "id": "7cc1af99-9e3e-4d32-adbd-71037f568942",
   "metadata": {},
   "outputs": [],
   "source": [
    "# close the current window\n",
    "driver.close()"
   ]
  },
  {
   "cell_type": "code",
   "execution_count": null,
   "id": "510e4439-406b-40ff-850f-3ecdd1aa430b",
   "metadata": {},
   "outputs": [],
   "source": [
    "# you MUST quit or it will cause problems "
   ]
  },
  {
   "cell_type": "code",
   "execution_count": 61,
   "id": "aeadd639-c2b5-4c19-9671-abf464506b5d",
   "metadata": {},
   "outputs": [],
   "source": [
    "driver.quit()"
   ]
  },
  {
   "cell_type": "code",
   "execution_count": null,
   "id": "4e54cf46-2da8-4dd9-831a-350fba7506e5",
   "metadata": {},
   "outputs": [],
   "source": []
  }
 ],
 "metadata": {
  "kernelspec": {
   "display_name": "Python 3 (ipykernel)",
   "language": "python",
   "name": "python3"
  },
  "language_info": {
   "codemirror_mode": {
    "name": "ipython",
    "version": 3
   },
   "file_extension": ".py",
   "mimetype": "text/x-python",
   "name": "python",
   "nbconvert_exporter": "python",
   "pygments_lexer": "ipython3",
   "version": "3.9.13"
  }
 },
 "nbformat": 4,
 "nbformat_minor": 5
}
